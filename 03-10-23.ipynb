{
  "nbformat": 4,
  "nbformat_minor": 0,
  "metadata": {
    "colab": {
      "provenance": [],
      "authorship_tag": "ABX9TyNsXfk0P3Dq04PSzK3Yrdvb",
      "include_colab_link": true
    },
    "kernelspec": {
      "name": "python3",
      "display_name": "Python 3"
    },
    "language_info": {
      "name": "python"
    }
  },
  "cells": [
    {
      "cell_type": "markdown",
      "metadata": {
        "id": "view-in-github",
        "colab_type": "text"
      },
      "source": [
        "<a href=\"https://colab.research.google.com/github/emilianot845/THC/blob/main/03-10-23.ipynb\" target=\"_parent\"><img src=\"https://colab.research.google.com/assets/colab-badge.svg\" alt=\"Open In Colab\"/></a>"
      ]
    },
    {
      "cell_type": "code",
      "execution_count": 4,
      "metadata": {
        "colab": {
          "base_uri": "https://localhost:8080/"
        },
        "id": "z4sL-YYSqfJP",
        "outputId": "d8fe7b94-c838-40a4-9b5a-71b5d952ab81"
      },
      "outputs": [
        {
          "output_type": "stream",
          "name": "stdout",
          "text": [
            "MJ\n"
          ]
        }
      ],
      "source": [
        "players=[\"MJ\", \"Denis\", \"Pipen\"]\n",
        "for x in players:\n",
        "  print(x)\n",
        "  if x==\"MJ\":\n",
        "   break"
      ]
    },
    {
      "cell_type": "code",
      "source": [
        "players=[\"MJ\", \"Denis\", \"Pipen\"]\n",
        "for x in players:\n",
        "  if x ==\"Denis\":\n",
        "    continue\n",
        "  print(x)\n",
        ""
      ],
      "metadata": {
        "colab": {
          "base_uri": "https://localhost:8080/"
        },
        "id": "3eyiY4QqrOdF",
        "outputId": "31ab29b7-0ee8-43da-cc9d-b1f45e1d4937"
      },
      "execution_count": 7,
      "outputs": [
        {
          "output_type": "stream",
          "name": "stdout",
          "text": [
            "MJ\n",
            "Pipen\n"
          ]
        }
      ]
    },
    {
      "cell_type": "code",
      "source": [
        "algo=0\n",
        "for numero in range(1,51):\n",
        " algo += numero\n",
        "print(\"la suma es:\", algo)"
      ],
      "metadata": {
        "colab": {
          "base_uri": "https://localhost:8080/"
        },
        "id": "H31sCfVRuh6i",
        "outputId": "c8363b7c-f3e0-40c4-b7bb-b98f498a76f0"
      },
      "execution_count": 19,
      "outputs": [
        {
          "output_type": "stream",
          "name": "stdout",
          "text": [
            "la suma es: 1275\n"
          ]
        }
      ]
    },
    {
      "cell_type": "code",
      "source": [
        "suma=0\n",
        "i=1\n",
        "while i<51:\n",
        " suma=suma+i\n",
        " i=i+1\n",
        "print(suma)"
      ],
      "metadata": {
        "colab": {
          "base_uri": "https://localhost:8080/"
        },
        "id": "mLVYqcRSwtMN",
        "outputId": "78294d50-f719-46ed-99b0-78c47b95c4c2"
      },
      "execution_count": 21,
      "outputs": [
        {
          "output_type": "stream",
          "name": "stdout",
          "text": [
            "1275\n"
          ]
        }
      ]
    },
    {
      "cell_type": "code",
      "source": [
        "x=int(input(\"Ingresa un entero positivo\"))\n",
        "factorial=1\n",
        "for i in range(1,x+1):\n",
        "   factorial=factorial*i\n",
        "print(factorial)\n"
      ],
      "metadata": {
        "colab": {
          "base_uri": "https://localhost:8080/"
        },
        "id": "-rB5Uw8-xZHx",
        "outputId": "7be67760-f683-4f6c-9a30-f514c76676f3"
      },
      "execution_count": 28,
      "outputs": [
        {
          "output_type": "stream",
          "name": "stdout",
          "text": [
            "Ingresa un entero positivo5\n",
            "120\n"
          ]
        }
      ]
    },
    {
      "cell_type": "code",
      "source": [
        "for i in range(101):\n",
        "  if i%2==0:\n",
        "    print(i)"
      ],
      "metadata": {
        "colab": {
          "base_uri": "https://localhost:8080/"
        },
        "id": "3XcNKzX41J-9",
        "outputId": "0518b175-014f-4036-b2fe-5da4f7ffde7f"
      },
      "execution_count": 33,
      "outputs": [
        {
          "output_type": "stream",
          "name": "stdout",
          "text": [
            "0\n",
            "2\n",
            "4\n",
            "6\n",
            "8\n",
            "10\n",
            "12\n",
            "14\n",
            "16\n",
            "18\n",
            "20\n",
            "22\n",
            "24\n",
            "26\n",
            "28\n",
            "30\n",
            "32\n",
            "34\n",
            "36\n",
            "38\n",
            "40\n",
            "42\n",
            "44\n",
            "46\n",
            "48\n",
            "50\n",
            "52\n",
            "54\n",
            "56\n",
            "58\n",
            "60\n",
            "62\n",
            "64\n",
            "66\n",
            "68\n",
            "70\n",
            "72\n",
            "74\n",
            "76\n",
            "78\n",
            "80\n",
            "82\n",
            "84\n",
            "86\n",
            "88\n",
            "90\n",
            "92\n",
            "94\n",
            "96\n",
            "98\n",
            "100\n"
          ]
        }
      ]
    },
    {
      "cell_type": "code",
      "source": [
        "equipos=[\"KC\",\"PH\",\"CN\",\"TB\",\"LA\"]\n",
        "for ciudad in equipos:\n",
        "   print(ciudad)\n"
      ],
      "metadata": {
        "colab": {
          "base_uri": "https://localhost:8080/"
        },
        "id": "N2gYs1oP38MW",
        "outputId": "db363eb9-cc70-4e72-b3c2-6429f2e21efb"
      },
      "execution_count": 34,
      "outputs": [
        {
          "output_type": "stream",
          "name": "stdout",
          "text": [
            "KC\n",
            "PH\n",
            "CN\n",
            "TB\n",
            "LA\n"
          ]
        }
      ]
    },
    {
      "cell_type": "code",
      "source": [
        "if \"TN\" in equipos:\n",
        "  print(\"La ciudad esta en los equipos\")\n",
        "if \"PH\" in equipos:\n",
        "  print(\"La ciudad esta en los equipos\")"
      ],
      "metadata": {
        "colab": {
          "base_uri": "https://localhost:8080/"
        },
        "id": "oz5QZ74p6d5w",
        "outputId": "2c903389-ac52-487c-ed88-bd2d834343e8"
      },
      "execution_count": 36,
      "outputs": [
        {
          "output_type": "stream",
          "name": "stdout",
          "text": [
            "La ciudad esta en los equipos\n"
          ]
        }
      ]
    },
    {
      "cell_type": "code",
      "source": [
        "Numeros=[2,4,6,8,10,12]\n",
        "suma=0\n",
        "for numero in Numeros:\n",
        "    suma+= numero\n",
        "print(\"La suma de los enteros pares del 2 al 12 es\",suma)"
      ],
      "metadata": {
        "colab": {
          "base_uri": "https://localhost:8080/"
        },
        "id": "BcjyMP967NTH",
        "outputId": "5da24385-8d0c-4f31-bee3-cf2fe770c855"
      },
      "execution_count": 38,
      "outputs": [
        {
          "output_type": "stream",
          "name": "stdout",
          "text": [
            "La suma de los enteros pares del 2 al 12 es 42\n"
          ]
        }
      ]
    }
  ]
}